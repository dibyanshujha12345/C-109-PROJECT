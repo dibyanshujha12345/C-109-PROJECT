{
  "nbformat": 4,
  "nbformat_minor": 0,
  "metadata": {
    "colab": {
      "name": "C109PROJECT.ipynb",
      "provenance": [],
      "authorship_tag": "ABX9TyM/E2xSxrrz47A1lhpg6kdk",
      "include_colab_link": true
    },
    "kernelspec": {
      "name": "python3",
      "display_name": "Python 3"
    },
    "language_info": {
      "name": "python"
    }
  },
  "cells": [
    {
      "cell_type": "markdown",
      "metadata": {
        "id": "view-in-github",
        "colab_type": "text"
      },
      "source": [
        "<a href=\"https://colab.research.google.com/github/dibyanshujha12345/C-109-PROJECT/blob/main/C109PROJECT.ipynb\" target=\"_parent\"><img src=\"https://colab.research.google.com/assets/colab-badge.svg\" alt=\"Open In Colab\"/></a>"
      ]
    },
    {
      "cell_type": "code",
      "execution_count": 2,
      "metadata": {
        "colab": {
          "base_uri": "https://localhost:8080/"
        },
        "id": "3z-Ir14CK4h-",
        "outputId": "8ba5c0a5-0556-4c7d-f049-ebe09e27b895"
      },
      "outputs": [
        {
          "output_type": "stream",
          "name": "stdout",
          "text": [
            "69.169\n",
            "14.600191937252216\n",
            "Mode is  72\n",
            "median is  70.0\n"
          ]
        }
      ],
      "source": [
        "import plotly.figure_factory as ff\n",
        "import plotly.graph_objects as go\n",
        "import pandas as pd \n",
        "import csv\n",
        "import statistics as st\n",
        "df=pd.read_csv(\"StudentsPerformance.csv\")\n",
        "data=df[\"reading score\"].tolist()\n",
        "\n",
        "# fig=ff.create_distplot([data],\"reading\")\n",
        "\n",
        "mean =st.mean(data)\n",
        "print(mean)\n",
        "\n",
        "\n",
        "stdv=st.stdev(data)\n",
        "print(stdv)\n",
        "\n",
        "mode=st.mode(data)\n",
        "print(\"Mode is \",mode)\n",
        "\n",
        "median=st.median(data)\n",
        "print(\"median is \",median)\n",
        "\n"
      ]
    },
    {
      "cell_type": "code",
      "source": [
        "first_st_dev_start,first_st_dev_end = mean-stdv,mean+stdv\n",
        "\n",
        "\n",
        "list_of_data_within_one_st_dev = [result for result in data if result > first_st_dev_start and result < first_st_dev_end]\n",
        "print(\"{}% of data lies within one standard deviation\".format(len(list_of_data_within_one_st_dev)*100/len(datambn)))"
      ],
      "metadata": {
        "colab": {
          "base_uri": "https://localhost:8080/"
        },
        "id": "WDfcOw_OZ5mg",
        "outputId": "ec3ec151-7592-4748-8a03-9e52dc05a0c3"
      },
      "execution_count": 3,
      "outputs": [
        {
          "output_type": "stream",
          "name": "stdout",
          "text": [
            "66.4% of data lies within one standard deviation\n"
          ]
        }
      ]
    },
    {
      "cell_type": "code",
      "source": [
        "second_st_dev_start,second_st_dev_end = mean-(2*stdv),mean+(2*stdv)\n",
        "\n",
        "\n",
        "list_of_data_within_two_st_dev = [result for result in data if result > second_st_dev_start and result < second_st_dev_end]\n",
        "print(\"{}% of data lies within two standard deviation\".format(len(list_of_data_within_two_st_dev)*100/len(data)))"
      ],
      "metadata": {
        "colab": {
          "base_uri": "https://localhost:8080/"
        },
        "id": "r0SxYyysaDGk",
        "outputId": "114d8e28-741e-4961-8a21-8ca630e05b6f"
      },
      "execution_count": 4,
      "outputs": [
        {
          "output_type": "stream",
          "name": "stdout",
          "text": [
            "95.4% of data lies within two standard deviation\n"
          ]
        }
      ]
    },
    {
      "cell_type": "code",
      "source": [
        "third_st_dev_start,third_st_dev_end = mean-(3*stdv),mean+(4*stdv)\n",
        "\n",
        "\n",
        "list_of_data_within_three_st_dev = [result for result in data if result > third_st_dev_start and result < third_st_dev_end]\n",
        "print(\"{}% of data lies within three standard deviation\".format(len(list_of_data_within_three_st_dev)*100/len(data)))"
      ],
      "metadata": {
        "colab": {
          "base_uri": "https://localhost:8080/"
        },
        "id": "eIuPLQppaIxD",
        "outputId": "356172dd-9a66-4eac-87af-fdd85989c7f3"
      },
      "execution_count": 5,
      "outputs": [
        {
          "output_type": "stream",
          "name": "stdout",
          "text": [
            "99.6% of data lies within three standard deviation\n"
          ]
        }
      ]
    }
  ]
}